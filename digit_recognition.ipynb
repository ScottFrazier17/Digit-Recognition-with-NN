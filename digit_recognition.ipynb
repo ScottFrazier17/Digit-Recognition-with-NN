{
 "cells": [
  {
   "cell_type": "markdown",
   "metadata": {},
   "source": [
    "# Digit Recognition with Neural Networks\n",
    "\n",
    "Digit recognition is a classic problem in the field of computer vision and machine learning, where the goal is to correctly identify digits from a given set of images. This task is fundamental in applications such as automated data entry, license plate recognition, and handwriting recognition.\n",
    "\n",
    "The MNIST dataset, which stands for Modified National Institute of Standards and Technology database, is a large database of handwritten digits that is commonly used for training various image processing systems. It serves as a benchmark for evaluating the performance of these systems.\n",
    "\n",
    "In this notebook, we will explore how different neural network architectures can be applied to this problem, comparing their effectiveness and efficiency in recognizing handwritten digits.\n"
   ]
  },
  {
   "cell_type": "markdown",
   "metadata": {},
   "source": [
    "# Data Loading of MNIST\n",
    "\n",
    "The MNIST dataset consists of 70,000 images of handwritten digits, split into a training set of 60,000 images and a test set of 10,000 images. Each image is a grayscale image, 28x28 pixels in size.\n",
    "\n",
    "Here's how we load and preprocess the data using TensorFlow and Keras:"
   ]
  },
  {
   "cell_type": "code",
   "execution_count": 99,
   "metadata": {},
   "outputs": [],
   "source": [
    "import tensorflow as tf\n",
    "\n",
    "# Loading our dataset\n",
    "mnist = tf.keras.datasets.mnist\n",
    "(x_train, y_train), (x_test, y_test) = mnist.load_data()\n",
    "\n",
    "# Normalizing the data\n",
    "x_train = tf.keras.utils.normalize(x_train, axis=1)\n",
    "x_test = tf.keras.utils.normalize(x_test, axis=1)"
   ]
  },
  {
   "cell_type": "markdown",
   "metadata": {},
   "source": [
    "# Basics of Fully Dense Networks\n",
    "\n",
    "The fully connected (dense) neural network we discussed is structured as follows:\n",
    "\n",
    "1. **Input Layer**: Flattens the input image data, transforming it from a 2D array (28x28 pixels) into a 1D array (784 pixels).\n",
    "\n",
    "2. **Hidden Layers**: Two dense layers with 16 neurons each, using ReLU (Rectified Linear Unit) as the activation function. These layers are responsible for learning the nonlinear relationships in the data.\n",
    "\n",
    "3. **Output Layer**: A dense layer with 10 neurons (one for each digit from 0 to 9), using the softmax activation function to output probabilities for each class.\n",
    "\n",
    "Here's the simplified code representation:"
   ]
  },
  {
   "cell_type": "code",
   "execution_count": 106,
   "metadata": {},
   "outputs": [
    {
     "name": "stdout",
     "output_type": "stream",
     "text": [
      "Epoch 1/3\n",
      "1875/1875 [==============================] - 1s 516us/step - loss: 0.4914 - accuracy: 0.8550\n",
      "Epoch 2/3\n",
      "1875/1875 [==============================] - 1s 512us/step - loss: 0.2623 - accuracy: 0.9223\n",
      "Epoch 3/3\n",
      "1875/1875 [==============================] - 1s 534us/step - loss: 0.2197 - accuracy: 0.9337\n"
     ]
    },
    {
     "data": {
      "text/plain": [
       "<keras.callbacks.History at 0x177edbd90>"
      ]
     },
     "execution_count": 106,
     "metadata": {},
     "output_type": "execute_result"
    }
   ],
   "source": [
    "# Defining our model to train\n",
    "model = tf.keras.models.Sequential()\n",
    "model.add(tf.keras.layers.Flatten(input_shape=(28, 28, 1)))\n",
    "model.add(tf.keras.layers.Dense(16, activation=\"relu\"))\n",
    "model.add(tf.keras.layers.Dense(16, activation=\"relu\"))\n",
    "model.add(tf.keras.layers.Dense(10, activation=\"softmax\"))\n",
    "\n",
    "# Train the model\n",
    "model.compile(optimizer=\"adam\", loss=\"sparse_categorical_crossentropy\", metrics=[\"accuracy\"])\n",
    "model.fit(x_train, y_train, epochs=3)"
   ]
  },
  {
   "cell_type": "markdown",
   "metadata": {},
   "source": [
    "# Explanation of the SimpleNet Model\n",
    "\n",
    "SimpleNet is a more complex neural network architecture that utilizes convolutional layers. Here’s a brief overview of its structure:\n",
    "\n",
    "1. **Convolutional Layers**: Designed to capture spatial hierarchies in images by applying filters that scan the input images.\n",
    "\n",
    "2. **Pooling Layers**: Reduce the spatial dimensions of the output from the convolutional layers, helping in making the representation smaller and more manageable.\n",
    "\n",
    "3. **Flatten and Dense Layers**: Convert the 2D features into 1D features and then into classification probabilities.\n",
    "\n",
    "The primary advantage of SimpleNet over fully connected networks is its ability to preserve spatial relationships between pixels, making it better suited for image data. Here is how it's implemented:"
   ]
  },
  {
   "cell_type": "code",
   "execution_count": 104,
   "metadata": {},
   "outputs": [
    {
     "name": "stdout",
     "output_type": "stream",
     "text": [
      "Epoch 1/10\n",
      "938/938 [==============================] - 21s 22ms/step - loss: 0.1312 - accuracy: 0.9608\n",
      "Epoch 2/10\n",
      "938/938 [==============================] - 24s 26ms/step - loss: 0.0428 - accuracy: 0.9872\n",
      "Epoch 3/10\n",
      "938/938 [==============================] - 25s 27ms/step - loss: 0.0310 - accuracy: 0.9897\n",
      "Epoch 4/10\n",
      "938/938 [==============================] - 25s 26ms/step - loss: 0.0230 - accuracy: 0.9924\n",
      "Epoch 5/10\n",
      "938/938 [==============================] - 25s 26ms/step - loss: 0.0206 - accuracy: 0.9930\n",
      "Epoch 6/10\n",
      "938/938 [==============================] - 25s 26ms/step - loss: 0.0139 - accuracy: 0.9954\n",
      "Epoch 7/10\n",
      "938/938 [==============================] - 24s 26ms/step - loss: 0.0124 - accuracy: 0.9956\n",
      "Epoch 8/10\n",
      "938/938 [==============================] - 25s 27ms/step - loss: 0.0126 - accuracy: 0.9959\n",
      "Epoch 9/10\n",
      "938/938 [==============================] - 27s 28ms/step - loss: 0.0078 - accuracy: 0.9973\n",
      "Epoch 10/10\n",
      "938/938 [==============================] - 25s 27ms/step - loss: 0.0091 - accuracy: 0.9971\n"
     ]
    },
    {
     "name": "stderr",
     "output_type": "stream",
     "text": [
      "WARNING:absl:Found untraced functions such as _jit_compiled_convolution_op, _jit_compiled_convolution_op while saving (showing 2 of 2). These functions will not be directly callable after loading.\n"
     ]
    },
    {
     "name": "stdout",
     "output_type": "stream",
     "text": [
      "INFO:tensorflow:Assets written to: SimpleNet.model/assets\n"
     ]
    },
    {
     "name": "stderr",
     "output_type": "stream",
     "text": [
      "INFO:tensorflow:Assets written to: SimpleNet.model/assets\n"
     ]
    }
   ],
   "source": [
    "SimpleNet_model = tf.keras.models.Sequential()\n",
    "\n",
    "SimpleNet_model.add(tf.keras.layers.Conv2D(32, (3, 3), activation='relu', input_shape=(28, 28, 1)))\n",
    "SimpleNet_model.add(tf.keras.layers.BatchNormalization())\n",
    "SimpleNet_model.add(tf.keras.layers.MaxPooling2D((2, 2)))\n",
    "SimpleNet_model.add(tf.keras.layers.Conv2D(64, (3, 3), activation='relu'))\n",
    "SimpleNet_model.add(tf.keras.layers.BatchNormalization())\n",
    "SimpleNet_model.add(tf.keras.layers.MaxPooling2D((2, 2)))\n",
    "SimpleNet_model.add(tf.keras.layers.Flatten())\n",
    "SimpleNet_model.add(tf.keras.layers.Dense(64, activation='relu'))\n",
    "SimpleNet_model.add(tf.keras.layers.Dense(10, activation='softmax'))\n",
    "\n",
    "SimpleNet_model.compile(optimizer=\"adam\", loss=\"sparse_categorical_crossentropy\", metrics=[\"accuracy\"])\n",
    "SimpleNet_model.fit(x_train, y_train, epochs=10, batch_size=64)"
   ]
  },
  {
   "cell_type": "markdown",
   "metadata": {},
   "source": [
    "# Comparison of Fully Dense Networks and SimpleNet\n",
    "\n",
    "When comparing the fully dense network with SimpleNet on the MNIST dataset, several key differences emerge:\n",
    "\n",
    "- **Performance**: SimpleNet generally outperforms fully connected networks on image recognition tasks due to its convolutional layers that better capture the spatial structures within images.\n",
    "\n",
    "- **Complexity and Training**: While SimpleNet is more complex and might require more computational resources, its ability to train faster per epoch and achieve higher accuracy levels justifies the extra complexity.\n",
    "\n",
    "- **Generalization**: SimpleNet tends to generalize better to new, unseen images, which is crucial for robust machine learning models.\n",
    "\n",
    "In conclusion, while fully dense networks can serve as a good starting point for understanding neural network operations, architectures like SimpleNet offer significant advantages for tasks involving image data, demonstrating superior performance and efficiency.\n"
   ]
  },
  {
   "cell_type": "code",
   "execution_count": 111,
   "metadata": {},
   "outputs": [
    {
     "name": "stdout",
     "output_type": "stream",
     "text": [
      "313/313 [==============================] - 2s 5ms/step - loss: 0.0578 - accuracy: 0.9886\n",
      "Loss:  0.05779415741562843\n",
      "Accuracy:  0.9886000156402588\n"
     ]
    }
   ],
   "source": [
    "loss, accuracy = model.evaluate(x_test, y_test)\n",
    "# loss, accuracy = tf.keras.models.load_model(\"models/3Blue1Brown_1024.model\").evaluate(x_test, y_test)\n",
    "# loss, accuracy = tf.keras.models.load_model(\"models/3Blue1Brown_2048.model\").evaluate(x_test, y_test)\n",
    "# loss, accuracy = tf.keras.models.load_model(\"models/SimpleNet.model\").evaluate(x_test, y_test)\n",
    "\n",
    "print(\"Loss: \", loss)\n",
    "print(\"Accuracy: \", accuracy)"
   ]
  },
  {
   "cell_type": "markdown",
   "metadata": {},
   "source": [
    "# Useful Website for Visualization and References\n",
    "\n",
    "#### **Distill**: https://distill.pub/2020/grand-tour/\n",
    "\n",
    "#### **3Blue1Brown**: https://www.3blue1brown.com/lessons/neural-network-analysis#analyzing-the-network\n",
    "\n",
    "#### **SimpleNet**: https://github.com/Coderx7/SimpleNet"
   ]
  }
 ],
 "metadata": {
  "kernelspec": {
   "display_name": "cv_project",
   "language": "python",
   "name": "python3"
  },
  "language_info": {
   "codemirror_mode": {
    "name": "ipython",
    "version": 3
   },
   "file_extension": ".py",
   "mimetype": "text/x-python",
   "name": "python",
   "nbconvert_exporter": "python",
   "pygments_lexer": "ipython3",
   "version": "3.11.5"
  }
 },
 "nbformat": 4,
 "nbformat_minor": 2
}
